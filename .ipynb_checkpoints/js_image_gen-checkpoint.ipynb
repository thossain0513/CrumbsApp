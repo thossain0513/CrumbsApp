{
 "cells": [
  {
   "cell_type": "code",
   "execution_count": null,
   "id": "9a74f7fa",
   "metadata": {
    "collapsed": true
   },
   "outputs": [
    {
     "name": "stdout",
     "output_type": "stream",
     "text": [
      "Password:"
     ]
    }
   ],
   "source": [
    "!sudo npm install -g node-kernel"
   ]
  },
  {
   "cell_type": "code",
   "execution_count": 6,
   "id": "c6af8fd3",
   "metadata": {},
   "outputs": [
    {
     "name": "stderr",
     "output_type": "stream",
     "text": [
      "UsageError: %%js is a cell magic, but the cell body is empty.\n"
     ]
    }
   ],
   "source": [
    "%%js"
   ]
  },
  {
   "cell_type": "code",
   "execution_count": null,
   "id": "b7d98b35",
   "metadata": {},
   "outputs": [],
   "source": []
  }
 ],
 "metadata": {
  "kernelspec": {
   "display_name": "Python 3 (ipykernel)",
   "language": "python",
   "name": "python3"
  },
  "language_info": {
   "codemirror_mode": {
    "name": "ipython",
    "version": 3
   },
   "file_extension": ".py",
   "mimetype": "text/x-python",
   "name": "python",
   "nbconvert_exporter": "python",
   "pygments_lexer": "ipython3",
   "version": "3.11.7"
  }
 },
 "nbformat": 4,
 "nbformat_minor": 5
}
